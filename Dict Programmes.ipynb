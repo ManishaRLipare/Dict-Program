{
 "cells": [
  {
   "cell_type": "markdown",
   "id": "774f2b87",
   "metadata": {},
   "source": [
    "### Convert two lists into a dictionary"
   ]
  },
  {
   "cell_type": "code",
   "execution_count": 1,
   "id": "7c795680",
   "metadata": {},
   "outputs": [
    {
     "name": "stdout",
     "output_type": "stream",
     "text": [
      "Enter a list:['name','age','place']\n",
      "Enter a list:['anvita',2,'pune']\n",
      "{'name': 'anvita', 'age': 2, 'place': 'pune'}\n"
     ]
    }
   ],
   "source": [
    "l1 = eval(input('Enter a list:'))\n",
    "l2 = eval(input('Enter a list:'))\n",
    "m = dict(zip(l1,l2))\n",
    "print(m)"
   ]
  },
  {
   "cell_type": "markdown",
   "id": "61698c6b",
   "metadata": {},
   "source": [
    "### Merge two dict into one dict"
   ]
  },
  {
   "cell_type": "code",
   "execution_count": 4,
   "id": "6c9d874a",
   "metadata": {},
   "outputs": [
    {
     "name": "stdout",
     "output_type": "stream",
     "text": [
      "Enter a dictionary:{'name': 'anvita', 'age': 2, 'place': 'pune'}\n",
      "Enter a dictionary:{'salary': 90000,'Bplace': 'Ichalkaranji'}\n",
      "{'name': 'anvita', 'age': 2, 'place': 'pune', 'salary': 90000, 'Bplace': 'Ichalkaranji'}\n"
     ]
    }
   ],
   "source": [
    "d1 = eval(input('Enter a dictionary:'))\n",
    "d2 = eval(input('Enter a dictionary:'))\n",
    "d3 = d1 | d2\n",
    "print(d3)"
   ]
  },
  {
   "cell_type": "code",
   "execution_count": 5,
   "id": "f5031284",
   "metadata": {},
   "outputs": [
    {
     "name": "stdout",
     "output_type": "stream",
     "text": [
      "Enter a dictionary:{'name': 'anvita', 'age': 2, 'place': 'pune'}\n",
      "Enter a dictionary:{'salary': 90000,'Bplace': 'Ichalkaranji'}\n",
      "{'name': 'anvita', 'age': 2, 'place': 'pune', 'salary': 90000, 'Bplace': 'Ichalkaranji'}\n"
     ]
    }
   ],
   "source": [
    "d1 = eval(input('Enter a dictionary:'))\n",
    "d2 = eval(input('Enter a dictionary:'))\n",
    "d3 = dict(**d1,**d2)\n",
    "print(d3)"
   ]
  },
  {
   "cell_type": "code",
   "execution_count": 6,
   "id": "fb6771d3",
   "metadata": {},
   "outputs": [
    {
     "name": "stdout",
     "output_type": "stream",
     "text": [
      "Enter a dictionary:{'name': 'anvita', 'age': 2, 'place': 'pune'}\n",
      "Enter a dictionary:{'salary': 90000,'Bplace': 'Ichalkaranji'}\n",
      "{'name': 'anvita', 'age': 2, 'place': 'pune', 'salary': 90000, 'Bplace': 'Ichalkaranji'}\n"
     ]
    }
   ],
   "source": [
    "d1 = eval(input('Enter a dictionary:'))\n",
    "d2 = eval(input('Enter a dictionary:'))\n",
    "d3 = dict(d1,**d2)\n",
    "print(d3)"
   ]
  },
  {
   "cell_type": "code",
   "execution_count": 7,
   "id": "7a7bc422",
   "metadata": {},
   "outputs": [
    {
     "name": "stdout",
     "output_type": "stream",
     "text": [
      "Enter a dictionary:{'name': 'anvita', 'age': 2, 'place': 'pune'}\n",
      "Enter a dictionary:{'salary': 90000,'Bplace': 'Ichalkaranji'}\n",
      "{'name': 'anvita', 'age': 2, 'place': 'pune', 'salary': 90000, 'Bplace': 'Ichalkaranji'}\n"
     ]
    }
   ],
   "source": [
    "d1 = eval(input('Enter a dictionary:'))\n",
    "d2 = eval(input('Enter a dictionary:'))\n",
    "d3 = d1.copy()\n",
    "d3.update(d2)\n",
    "print(d3)"
   ]
  },
  {
   "cell_type": "code",
   "execution_count": 11,
   "id": "3c5a7c1e",
   "metadata": {},
   "outputs": [
    {
     "name": "stdout",
     "output_type": "stream",
     "text": [
      "Enter a dictionary:{'name': 'anvita', 'age': 2, 'place': 'pune'}\n",
      "Enter a dictionary:{'salary': 90000,'Bplace': 'Ichalkaranji'}\n",
      "{'name': 'anvita', 'age': 2, 'place': 'pune', 'salary': 90000, 'Bplace': 'Ichalkaranji'}\n"
     ]
    }
   ],
   "source": [
    "d1 = eval(input('Enter a dictionary:'))\n",
    "d2 = eval(input('Enter a dictionary:'))\n",
    "d3 = d1.copy()\n",
    "for key, value in d2.items():\n",
    "    d3[key]=value\n",
    "print(d3)"
   ]
  },
  {
   "cell_type": "code",
   "execution_count": 18,
   "id": "b1920055",
   "metadata": {},
   "outputs": [
    {
     "data": {
      "text/plain": [
       "80"
      ]
     },
     "execution_count": 18,
     "metadata": {},
     "output_type": "execute_result"
    }
   ],
   "source": [
    "d = {'class':{'student':{'name':'Mike','marks':{'phy':70,'his':80}}}}\n",
    "d['class']['student']['marks']['his']"
   ]
  },
  {
   "cell_type": "markdown",
   "id": "be7b657d",
   "metadata": {},
   "source": [
    "### Initialize dictonary with default values"
   ]
  },
  {
   "cell_type": "code",
   "execution_count": 19,
   "id": "95844176",
   "metadata": {},
   "outputs": [
    {
     "name": "stdout",
     "output_type": "stream",
     "text": [
      "{'Kelly': {'desg': 'Developer', 'sal': 80000}, 'Emma': {'desg': 'Developer', 'sal': 80000}}\n"
     ]
    }
   ],
   "source": [
    "emp = ['Kelly','Emma']\n",
    "defaults = {'desg':'Developer','sal':80000}\n",
    "res = dict.fromkeys(emp,defaults)\n",
    "print(res)"
   ]
  },
  {
   "cell_type": "markdown",
   "id": "b108f56b",
   "metadata": {},
   "source": [
    "### to create a new dict by extracting the mentioned keys from the below dict"
   ]
  },
  {
   "cell_type": "code",
   "execution_count": 24,
   "id": "f2bb7732",
   "metadata": {},
   "outputs": [
    {
     "name": "stdout",
     "output_type": "stream",
     "text": [
      "{'name': 'Kelly', 'sal': 8000}\n"
     ]
    }
   ],
   "source": [
    "dict = {'name':'Kelly','age':25,'sal':8000,'city':'New york'}\n",
    "keys = ['name','sal']\n",
    "newDict = {k:dict[k] for k in keys}\n",
    "print(newDict)"
   ]
  },
  {
   "cell_type": "markdown",
   "id": "8bf10be4",
   "metadata": {},
   "source": [
    "### Delete a list of keys from a dict"
   ]
  },
  {
   "cell_type": "code",
   "execution_count": 26,
   "id": "5fc724ca",
   "metadata": {},
   "outputs": [
    {
     "name": "stdout",
     "output_type": "stream",
     "text": [
      "{'age': 25, 'city': 'New york'}\n"
     ]
    }
   ],
   "source": [
    "dict = {'name':'Kelly','age':25,'sal':8000,'city':'New york'}\n",
    "keys = ['name','sal']\n",
    "for k in keys:\n",
    "    dict.pop(k)\n",
    "print(dict)"
   ]
  },
  {
   "cell_type": "markdown",
   "id": "8a6815af",
   "metadata": {},
   "source": [
    "### Check if a value exists in a dict"
   ]
  },
  {
   "cell_type": "code",
   "execution_count": 27,
   "id": "6c370425",
   "metadata": {},
   "outputs": [
    {
     "name": "stdout",
     "output_type": "stream",
     "text": [
      "200 is present in a dict\n"
     ]
    }
   ],
   "source": [
    "d = {'a':100,'b':200,'c':300}\n",
    "if 200 in d.values():\n",
    "    print('200 is present in a dict')"
   ]
  },
  {
   "cell_type": "markdown",
   "id": "163fc7c1",
   "metadata": {},
   "source": [
    "### Rename key city to location of a dict"
   ]
  },
  {
   "cell_type": "code",
   "execution_count": 29,
   "id": "2cb6a899",
   "metadata": {},
   "outputs": [
    {
     "name": "stdout",
     "output_type": "stream",
     "text": [
      "{'name': 'Kelly', 'age': 25, 'sal': 8000, 'location': 'New york'}\n"
     ]
    }
   ],
   "source": [
    "d = {'name':'Kelly','age':25,'sal':8000,'city':'New york'}\n",
    "d['location']=d.pop('city')\n",
    "print(d)"
   ]
  },
  {
   "cell_type": "markdown",
   "id": "2e4ac948",
   "metadata": {},
   "source": [
    "### Change value of a key in a nested dict"
   ]
  },
  {
   "cell_type": "code",
   "execution_count": 30,
   "id": "cb935f79",
   "metadata": {},
   "outputs": [
    {
     "name": "stdout",
     "output_type": "stream",
     "text": [
      "{'emp1': {'name': 'Jhon', 'sal': 7500}, 'emp2': {'name': 'Emma', 'sal': 8000}, 'emp3': {'name': 'Brad', 'sal': 8500}}\n"
     ]
    }
   ],
   "source": [
    "d = {'emp1':{'name':'Jhon','sal':7500},'emp2':{'name':'Emma','sal':8000},'emp3':{'name':'Brad','sal':500}}\n",
    "d ['emp3']['sal'] = 8500\n",
    "print(d)"
   ]
  },
  {
   "cell_type": "markdown",
   "id": "c5e1dee2",
   "metadata": {},
   "source": [
    "### To concatenate following dicts to create a new one"
   ]
  },
  {
   "cell_type": "code",
   "execution_count": 32,
   "id": "d3ca1429",
   "metadata": {},
   "outputs": [
    {
     "name": "stdout",
     "output_type": "stream",
     "text": [
      "{1: 10, 2: 20, 3: 30, 4: 40, 5: 50, 6: 60}\n"
     ]
    }
   ],
   "source": [
    "d1 = {1:10,2:20}\n",
    "d2 = {3:30,4:40}\n",
    "d3 = {5:50,6:60}\n",
    "d4 = d1 | d2 | d3\n",
    "print(d4)"
   ]
  },
  {
   "cell_type": "code",
   "execution_count": 36,
   "id": "f20ca6c6",
   "metadata": {},
   "outputs": [
    {
     "name": "stdout",
     "output_type": "stream",
     "text": [
      "{1: 10, 2: 20, 3: 30, 4: 40, 5: 50, 6: 60}\n"
     ]
    }
   ],
   "source": [
    "d1 = {1:10,2:20}\n",
    "d2 = {3:30,4:40}\n",
    "d3 = {5:50,6:60}\n",
    "d4 = {}\n",
    "for d in (d1,d2,d3):d4.update(d)\n",
    "print(d4)"
   ]
  },
  {
   "cell_type": "markdown",
   "id": "fa03ccee",
   "metadata": {},
   "source": [
    "### Add a key to a dict"
   ]
  },
  {
   "cell_type": "code",
   "execution_count": 37,
   "id": "a7fb7466",
   "metadata": {},
   "outputs": [
    {
     "name": "stdout",
     "output_type": "stream",
     "text": [
      "{1: 10, 2: 20, 3: 30}\n"
     ]
    }
   ],
   "source": [
    "d ={1:10,2:20} \n",
    "d[3]=30\n",
    "print(d)"
   ]
  },
  {
   "cell_type": "code",
   "execution_count": 39,
   "id": "ef0c1dac",
   "metadata": {},
   "outputs": [
    {
     "name": "stdout",
     "output_type": "stream",
     "text": [
      "Enter a dict{1:10,2:20} \n",
      "Enter a single key and value of dict{5:50,6:60}\n",
      "{1: 10, 2: 20}\n",
      "{5: 50, 6: 60}\n",
      "{1: 10, 2: 20, 5: 50, 6: 60}\n"
     ]
    }
   ],
   "source": [
    "d = eval(input('Enter a dict'))\n",
    "d1 = eval(input('Enter a single key and value of dict'))\n",
    "print(d)\n",
    "print(d1)\n",
    "d.update(d1)\n",
    "print(d)"
   ]
  },
  {
   "cell_type": "markdown",
   "id": "4c400582",
   "metadata": {},
   "source": [
    "### Print a dict where the keys are numbers between 1 and 15 and values are square of keys"
   ]
  },
  {
   "cell_type": "code",
   "execution_count": 40,
   "id": "1ad3a5a6",
   "metadata": {},
   "outputs": [
    {
     "name": "stdout",
     "output_type": "stream",
     "text": [
      "{1: 1, 2: 4, 3: 9, 4: 16, 5: 25, 6: 36, 7: 49, 8: 64, 9: 81, 10: 100, 11: 121, 12: 144, 13: 169, 14: 196, 15: 225}\n"
     ]
    }
   ],
   "source": [
    "print({i:i*i for i in range(1,16)})"
   ]
  },
  {
   "cell_type": "code",
   "execution_count": 42,
   "id": "85c6f084",
   "metadata": {},
   "outputs": [
    {
     "name": "stdout",
     "output_type": "stream",
     "text": [
      "{1: 1, 2: 4, 3: 9, 4: 16, 5: 25, 6: 36, 7: 49, 8: 64, 9: 81, 10: 100, 11: 121, 12: 144, 13: 169, 14: 196, 15: 225}\n"
     ]
    }
   ],
   "source": [
    "d = {}\n",
    "for i in range(1,16):\n",
    "    d[i] = i*i\n",
    "print(d)    "
   ]
  },
  {
   "cell_type": "markdown",
   "id": "aa4f1c5e",
   "metadata": {},
   "source": [
    "### To iterate over dict using for loops"
   ]
  },
  {
   "cell_type": "code",
   "execution_count": 44,
   "id": "ca67d4e7",
   "metadata": {},
   "outputs": [
    {
     "name": "stdout",
     "output_type": "stream",
     "text": [
      "Red corresponds to 1\n",
      "Green corresponds to 2\n",
      "Blue corresponds to 3\n"
     ]
    }
   ],
   "source": [
    "d = {'Red':1,'Green':2,'Blue':3}\n",
    "for key,value in d.items():\n",
    "    print(key,'corresponds to',value)"
   ]
  },
  {
   "cell_type": "markdown",
   "id": "2d749479",
   "metadata": {},
   "source": [
    "### WAP to sum all the items in a dict"
   ]
  },
  {
   "cell_type": "code",
   "execution_count": 49,
   "id": "ddabe70e",
   "metadata": {},
   "outputs": [
    {
     "name": "stdout",
     "output_type": "stream",
     "text": [
      "Enter a dict:{'a':3,'b':5,'c':7}\n",
      "The sum of all values in a dict is: 15\n"
     ]
    }
   ],
   "source": [
    "d = eval(input('Enter a dict:'))\n",
    "sum = 0\n",
    "for i in d.values():\n",
    "    sum += i\n",
    "print('The sum of all values in a dict is:',sum)    "
   ]
  },
  {
   "cell_type": "code",
   "execution_count": 52,
   "id": "d6954b13",
   "metadata": {},
   "outputs": [
    {
     "name": "stdout",
     "output_type": "stream",
     "text": [
      "Enter a dict:{1:'a',3:'b',2:'c'}\n",
      "The sum of all values in a dict is: 6\n"
     ]
    }
   ],
   "source": [
    "d = eval(input('Enter a dict:'))\n",
    "sum = 0\n",
    "for i in d.keys():\n",
    "    sum += i\n",
    "print('The sum of all values in a dict is:',sum) "
   ]
  },
  {
   "cell_type": "markdown",
   "id": "5d1c7262",
   "metadata": {},
   "source": [
    "### WAP to multiply all the items in a dict"
   ]
  },
  {
   "cell_type": "code",
   "execution_count": 50,
   "id": "eb623d78",
   "metadata": {},
   "outputs": [
    {
     "name": "stdout",
     "output_type": "stream",
     "text": [
      "Enter a dict:{'a':3,'b':5,'c':7}\n",
      "The multiplication of all values in a dict is: 105\n"
     ]
    }
   ],
   "source": [
    "d = eval(input('Enter a dict:'))\n",
    "mul = 1\n",
    "for i in d.values():\n",
    "    mul*=i\n",
    "print('The multiplication of all values in a dict is:',mul)"
   ]
  },
  {
   "cell_type": "code",
   "execution_count": 51,
   "id": "09bb80b0",
   "metadata": {},
   "outputs": [
    {
     "name": "stdout",
     "output_type": "stream",
     "text": [
      "Enter a dict:{1:'a',3:'b',2:'c'}\n",
      "The multiplication of all values in a dict is: 6\n"
     ]
    }
   ],
   "source": [
    "d = eval(input('Enter a dict:'))\n",
    "mul = 1\n",
    "for i in d.keys():\n",
    "    mul*=i\n",
    "print('The multiplication of all values in a dict is:',mul)"
   ]
  },
  {
   "cell_type": "markdown",
   "id": "39947bfc",
   "metadata": {},
   "source": [
    "### To convert given dict to a list of tuples"
   ]
  },
  {
   "cell_type": "code",
   "execution_count": 6,
   "id": "4a55fb37",
   "metadata": {},
   "outputs": [
    {
     "name": "stdout",
     "output_type": "stream",
     "text": [
      "Enter a dict:{'Red':1,'Green':3,'White':5,'Black':2}\n",
      "[('Red', 1), ('Green', 3), ('White', 5), ('Black', 2)]\n"
     ]
    }
   ],
   "source": [
    "d  = eval(input('Enter a dict:'))\n",
    "ls = list(d.items())\n",
    "print(ls)"
   ]
  },
  {
   "cell_type": "code",
   "execution_count": 5,
   "id": "757fa7e9",
   "metadata": {},
   "outputs": [
    {
     "name": "stdout",
     "output_type": "stream",
     "text": [
      "Enter a dict:{'Red':1,'Green':3,'White':5,'Black':2}\n",
      "[(0, 'Red'), (1, 'Green'), (2, 'White'), (3, 'Black')]\n"
     ]
    }
   ],
   "source": [
    "d  = eval(input('Enter a dict:'))\n",
    "ls = list(enumerate(d))\n",
    "print(ls)"
   ]
  },
  {
   "cell_type": "code",
   "execution_count": 7,
   "id": "804afea2",
   "metadata": {},
   "outputs": [
    {
     "name": "stdout",
     "output_type": "stream",
     "text": [
      "Enter a dict:{'Red':1,'Green':3,'White':5,'Black':2}\n",
      "['Red', 'Green', 'White', 'Black']\n"
     ]
    }
   ],
   "source": [
    "d  = eval(input('Enter a dict:'))\n",
    "ls = list(d)\n",
    "print(ls)"
   ]
  },
  {
   "cell_type": "markdown",
   "id": "127e940a",
   "metadata": {},
   "source": [
    "### To invert a dict with unique hashable values"
   ]
  },
  {
   "cell_type": "code",
   "execution_count": 8,
   "id": "07e92fc3",
   "metadata": {},
   "outputs": [
    {
     "name": "stdout",
     "output_type": "stream",
     "text": [
      "Enter a dict:{'Red':1,'Green':3,'White':5,'Black':2}\n",
      "[(0, 'Red'), (1, 'Green'), (2, 'White'), (3, 'Black')]\n"
     ]
    }
   ],
   "source": [
    "d = eval(input('Enter a dict:'))\n",
    "ls = list(enumerate(d))\n",
    "print(ls)"
   ]
  },
  {
   "cell_type": "markdown",
   "id": "4e5b2d30",
   "metadata": {},
   "source": [
    "###  To access dict key's element by index"
   ]
  },
  {
   "cell_type": "code",
   "execution_count": 13,
   "id": "2f69effb",
   "metadata": {},
   "outputs": [
    {
     "name": "stdout",
     "output_type": "stream",
     "text": [
      "Enter a dict:{'Red':1,'Green':3,'White':5,'Black':2}\n",
      "dict_keys(['Red', 'Green', 'White', 'Black'])\n"
     ]
    }
   ],
   "source": [
    "d = eval(input('Enter a dict:'))\n",
    "print(d.keys())"
   ]
  },
  {
   "cell_type": "code",
   "execution_count": 20,
   "id": "703d6345",
   "metadata": {},
   "outputs": [
    {
     "name": "stdout",
     "output_type": "stream",
     "text": [
      "Enter a dict:{'Red':1,'Green':3,'White':5,'Black':2}\n",
      "Red Green White Black "
     ]
    }
   ],
   "source": [
    "d = eval(input('Enter a dict:'))\n",
    "for i in d.keys():\n",
    "    print(i,end=' ')"
   ]
  },
  {
   "cell_type": "markdown",
   "id": "4b5fff21",
   "metadata": {},
   "source": [
    "### A python dict contains List as value, to clear the list values                           "
   ]
  },
  {
   "cell_type": "code",
   "execution_count": 1,
   "id": "52d5ef65",
   "metadata": {},
   "outputs": [
    {
     "name": "stdout",
     "output_type": "stream",
     "text": [
      "Enter a dict:{'Red':[1,2,3],'Green':[1,2,3]}\n",
      "{'Red': [], 'Green': []}\n"
     ]
    }
   ],
   "source": [
    "d = eval(input('Enter a dict:'))\n",
    "for i in d:\n",
    "    d[i].clear()\n",
    "print(d)    "
   ]
  },
  {
   "cell_type": "markdown",
   "id": "b6e971ce",
   "metadata": {},
   "source": [
    "###  To drop empty items from a given dict"
   ]
  },
  {
   "cell_type": "code",
   "execution_count": 5,
   "id": "1411e6aa",
   "metadata": {},
   "outputs": [
    {
     "name": "stdout",
     "output_type": "stream",
     "text": [
      "Enter a dict:{'Red':1,'Green':None,'White':5,'Black':None}\n",
      "{'Red': 1, 'Green': None, 'White': 5, 'Black': None}\n",
      "{'Red': 1, 'White': 5}\n"
     ]
    }
   ],
   "source": [
    "d = eval(input('Enter a dict:'))\n",
    "print(d)\n",
    "d = {key:value for (key,value) in d.items() if value is not None}\n",
    "print(d)"
   ]
  },
  {
   "cell_type": "code",
   "execution_count": null,
   "id": "c5152215",
   "metadata": {},
   "outputs": [],
   "source": []
  }
 ],
 "metadata": {
  "kernelspec": {
   "display_name": "Python 3 (ipykernel)",
   "language": "python",
   "name": "python3"
  },
  "language_info": {
   "codemirror_mode": {
    "name": "ipython",
    "version": 3
   },
   "file_extension": ".py",
   "mimetype": "text/x-python",
   "name": "python",
   "nbconvert_exporter": "python",
   "pygments_lexer": "ipython3",
   "version": "3.9.12"
  }
 },
 "nbformat": 4,
 "nbformat_minor": 5
}
